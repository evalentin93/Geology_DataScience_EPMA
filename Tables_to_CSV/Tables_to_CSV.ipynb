{
  "nbformat": 4,
  "nbformat_minor": 0,
  "metadata": {
    "colab": {
      "name": "Tables_to_CSV.ipynb",
      "provenance": [],
      "authorship_tag": "ABX9TyM9ZPkdGzgQpQ0ySd3CLwVd",
      "include_colab_link": true
    },
    "kernelspec": {
      "name": "python3",
      "display_name": "Python 3"
    }
  },
  "cells": [
    {
      "cell_type": "markdown",
      "metadata": {
        "id": "view-in-github",
        "colab_type": "text"
      },
      "source": [
        "<a href=\"https://colab.research.google.com/github/evalentin93/Geology_DataScience_EPMA/blob/master/Tables_to_CSV.ipynb\" target=\"_parent\"><img src=\"https://colab.research.google.com/assets/colab-badge.svg\" alt=\"Open In Colab\"/></a>"
      ]
    },
    {
      "cell_type": "markdown",
      "metadata": {
        "id": "oxXEV874SIE0",
        "colab_type": "text"
      },
      "source": [
        "## Description of the project"
      ]
    },
    {
      "cell_type": "markdown",
      "metadata": {
        "id": "LRffWaewREgY",
        "colab_type": "text"
      },
      "source": [
        "* This project involves a script to import tables from scientific papers.\n",
        "* I compared the modules Tabula and Camelot and found that Camelot better suits my needs.\n",
        "* I used my [M.Sc. thesis article](https://www.sciencedirect.com/science/article/abs/pii/S0024493720301900) for testing and the output results are good enough to automatize a database building process using Python.\n",
        "* This script is suited to be used in Google Colab.\n",
        "* I wrote this script because I used to type every cell from a table when I wanted to build my own databases, and now with Python there is no need for that.\n",
        "* In future developments I will use image recognition to import tables from old scanned thesis and papers."
      ]
    },
    {
      "cell_type": "markdown",
      "metadata": {
        "id": "tQHIuh6_77Be",
        "colab_type": "text"
      },
      "source": [
        "### Option 1 - Tabula (Problems with formated letters (SiO2, etc)), the output file was bad"
      ]
    },
    {
      "cell_type": "code",
      "metadata": {
        "id": "N7sJrWXG44In",
        "colab_type": "code",
        "colab": {}
      },
      "source": [
        "pip install tabula-py"
      ],
      "execution_count": null,
      "outputs": []
    },
    {
      "cell_type": "code",
      "metadata": {
        "id": "2k9qJlPl4-FQ",
        "colab_type": "code",
        "colab": {}
      },
      "source": [
        "import tabula"
      ],
      "execution_count": null,
      "outputs": []
    },
    {
      "cell_type": "code",
      "metadata": {
        "id": "cAhmBJeJ50vB",
        "colab_type": "code",
        "colab": {}
      },
      "source": [
        "file_path = '/content/Valentin_etal_2020.pdf'"
      ],
      "execution_count": null,
      "outputs": []
    },
    {
      "cell_type": "code",
      "metadata": {
        "id": "PdM98eGR53Ma",
        "colab_type": "code",
        "colab": {}
      },
      "source": [
        "tables = tabula.read_pdf(file_path, pages='all', multiple_tables=True)"
      ],
      "execution_count": null,
      "outputs": []
    },
    {
      "cell_type": "code",
      "metadata": {
        "id": "EJZ9nzJs5-H4",
        "colab_type": "code",
        "colab": {}
      },
      "source": [
        "tabula.convert_into(file_path, 'Tables_all.csv', output_format='csv', pages='all')"
      ],
      "execution_count": null,
      "outputs": []
    },
    {
      "cell_type": "markdown",
      "metadata": {
        "id": "pozdXt9479NT",
        "colab_type": "text"
      },
      "source": [
        "### Option 2 - Camelot (Best option)"
      ]
    },
    {
      "cell_type": "markdown",
      "metadata": {
        "id": "qzvbWBkvRlbl",
        "colab_type": "text"
      },
      "source": [
        "Documentation for Camelot: https://buildmedia.readthedocs.org/media/pdf/camelot-py/latest/camelot-py.pdf"
      ]
    },
    {
      "cell_type": "code",
      "metadata": {
        "id": "rkxLKij5BUB4",
        "colab_type": "code",
        "colab": {}
      },
      "source": [
        "# Install ghostscript (needed to run Camelot)\n",
        "! apt install python3-tk ghostscript"
      ],
      "execution_count": null,
      "outputs": []
    },
    {
      "cell_type": "code",
      "metadata": {
        "id": "bW-z9R5hBfNI",
        "colab_type": "code",
        "colab": {}
      },
      "source": [
        "# Import tkinter (needed to run Camelot)\n",
        "import tkinter"
      ],
      "execution_count": 10,
      "outputs": []
    },
    {
      "cell_type": "code",
      "metadata": {
        "id": "rR6sp7D1BjJU",
        "colab_type": "code",
        "colab": {
          "base_uri": "https://localhost:8080/",
          "height": 51
        },
        "outputId": "40ce9c90-707e-4e3b-935b-759e7e940a36"
      },
      "source": [
        "# Check if ghostscript is installed correctly\n",
        "!gs -version"
      ],
      "execution_count": 11,
      "outputs": [
        {
          "output_type": "stream",
          "text": [
            "GPL Ghostscript 9.26 (2018-11-20)\n",
            "Copyright (C) 2018 Artifex Software, Inc.  All rights reserved.\n"
          ],
          "name": "stdout"
        }
      ]
    },
    {
      "cell_type": "code",
      "metadata": {
        "id": "0LpyWZ676RIT",
        "colab_type": "code",
        "colab": {}
      },
      "source": [
        "# Install Camelot through pip\n",
        "pip install camelot-py[cv]"
      ],
      "execution_count": null,
      "outputs": []
    },
    {
      "cell_type": "code",
      "metadata": {
        "id": "hMsLhnjY8oh1",
        "colab_type": "code",
        "colab": {}
      },
      "source": [
        "# Import Camelot\n",
        "import camelot"
      ],
      "execution_count": 13,
      "outputs": []
    },
    {
      "cell_type": "code",
      "metadata": {
        "id": "U7p3_H_daFYE",
        "colab_type": "code",
        "colab": {}
      },
      "source": [
        "# The file you want to scan\n",
        "file_path = '/content/Valentin_etal_2020.pdf'"
      ],
      "execution_count": null,
      "outputs": []
    },
    {
      "cell_type": "code",
      "metadata": {
        "id": "fAwaP36N8ezY",
        "colab_type": "code",
        "colab": {}
      },
      "source": [
        "# Read the pdf looking for tables, flavor='lattice' is better suited for tables with great spacing between rows and columns\n",
        "tables2 = camelot.read_pdf(file_path, pages = \"1-end\", flavor='lattice')"
      ],
      "execution_count": 15,
      "outputs": []
    },
    {
      "cell_type": "code",
      "metadata": {
        "id": "aI5gnVBxFF3o",
        "colab_type": "code",
        "colab": {
          "base_uri": "https://localhost:8080/",
          "height": 34
        },
        "outputId": "daf9daac-7a4d-43f1-ac53-068b3dc3b860"
      },
      "source": [
        "# Shows the number of tables recognized\n",
        "tables2"
      ],
      "execution_count": 16,
      "outputs": [
        {
          "output_type": "execute_result",
          "data": {
            "text/plain": [
              "<TableList n=11>"
            ]
          },
          "metadata": {
            "tags": []
          },
          "execution_count": 16
        }
      ]
    },
    {
      "cell_type": "code",
      "metadata": {
        "id": "Z-IrYJhuFXgt",
        "colab_type": "code",
        "colab": {
          "base_uri": "https://localhost:8080/",
          "height": 527
        },
        "outputId": "6db2c3fb-127e-4b54-cdd5-677e86c66f6f"
      },
      "source": [
        "# Shows the tables recognized, in my case, it wasn't the best match\n",
        "for i in range(10):\n",
        "  print(tables2[i].df)"
      ],
      "execution_count": 17,
      "outputs": [
        {
          "output_type": "stream",
          "text": [
            "  0 1\n",
            "0    \n",
            "1    \n",
            "  0 1 2\n",
            "0      \n",
            "1      \n",
            "2      \n",
            "  0 1\n",
            "0    \n",
            "1    \n",
            "  0 1 2\n",
            "0      \n",
            "1      \n",
            "  0 1 2\n",
            "0      \n",
            "1      \n",
            "  0 1 2\n",
            "0      \n",
            "1      \n",
            "  0 1 2\n",
            "0      \n",
            "1      \n",
            "  0 1 2\n",
            "0      \n",
            "1      \n",
            "  0 1 2\n",
            "0      \n",
            "1      \n",
            "  0\n",
            "0  \n"
          ],
          "name": "stdout"
        }
      ]
    },
    {
      "cell_type": "code",
      "metadata": {
        "id": "fdQjCgFmES8g",
        "colab_type": "code",
        "colab": {}
      },
      "source": [
        "# Read the pdf looking for tables, flavor='stream' is better suited for all the other tables, \n",
        "# but accuracy isn't so good, therefore additional work is needed to filter the info\n",
        "tables3 = camelot.read_pdf(file_path, pages='1-end', flavor='stream')"
      ],
      "execution_count": 14,
      "outputs": []
    },
    {
      "cell_type": "code",
      "metadata": {
        "id": "tzJbJT6qFHRh",
        "colab_type": "code",
        "colab": {
          "base_uri": "https://localhost:8080/",
          "height": 34
        },
        "outputId": "870aa05d-10aa-4b59-b2e5-23c47f38b894"
      },
      "source": [
        "# Shows how many tables were recognized\n",
        "tables3"
      ],
      "execution_count": null,
      "outputs": [
        {
          "output_type": "execute_result",
          "data": {
            "text/plain": [
              "<TableList n=24>"
            ]
          },
          "metadata": {
            "tags": []
          },
          "execution_count": 19
        }
      ]
    },
    {
      "cell_type": "code",
      "metadata": {
        "id": "PgNG9NMIEhNI",
        "colab_type": "code",
        "colab": {
          "base_uri": "https://localhost:8080/",
          "height": 1000
        },
        "outputId": "6dafdfb6-fdcd-49a6-95b3-6fe523245be8"
      },
      "source": [
        "# Shows all the tables recognized\n",
        "for i in range (23):\n",
        "  print(tables3[i].df)"
      ],
      "execution_count": 18,
      "outputs": [
        {
          "output_type": "stream",
          "text": [
            "                                                    0                                                  1\n",
            "0                                                      j o u r n a l h o m e p a g e : w w w . e l s ...\n",
            "1                                    Research Article                                                   \n",
            "2   Monte Santo suite, an example of Ediacaran-Cam...                                                   \n",
            "3   rocks in the Araguaia Belt, Central Brazil. Im...                                                   \n",
            "4                                  Gondwana evolution                                                   \n",
            "5   Eduardo Valentin ⁎, Nilson F. Botelho, Elton L...                                                   \n",
            "6   Instituto de Geociências, Universidade de Bras...                                                   \n",
            "7                              a r t i c l e\\ni n f o                                    a b s t r a c t\n",
            "8                                    Article history:  Deformed alkaline rocks and carbonatites (DARC...\n",
            "9                              Received 14 March 2019                                                   \n",
            "10                                                     perienced two separate events of rifting and c...\n",
            "11             Received in revised form 24 April 2020                                                   \n",
            "12                                                     synkinematically emplaced along major structur...\n",
            "13                             Accepted 25 April 2020                                                   \n",
            "14                                                     logic event. The Monte Santo Suite consists of...\n",
            "15                       Available online 01 May 2020                                                   \n",
            "16                                                     Santo) that crop out in the Araguaia Belt and ...\n",
            "17                                                     this study, we use the chemistry, mineralogy a...\n",
            "18                                          Keywords:                                                   \n",
            "19                                                     the relations between its emplacement, the Bra...\n",
            "20                                  Nepheline Syenite                                                   \n",
            "21                                  Monte Santo Suite  Gondwana. The intrusions are predominantly nep...\n",
            "22                            Deformed Alkaline Rocks  composition from omphacite to aegirine-augite ...\n",
            "23                                      Araguaia Belt  istics. Biotite varies from phlogopite to side...\n",
            "24                                 Ediacaran-cambrian  neoformed trends. Amphibole varies from hastin...\n",
            "25                             Brasiliano/Pan-African                                                   \n",
            "26                                                     and low-temperature varieties. The REE and tra...\n",
            "27                                                     bulk content variations, positive anomalies fo...\n",
            "28                                                     multielement diagrams, The Zr/Hf ratios for al...\n",
            "29                                                     range from −10.1 to −3.0. Trace element and is...\n",
            "30                                                     fractional crystallization, crustal contaminat...\n",
            "31                                                     The Monte Santo Suite crystallization age is d...\n",
            "32                                                     synkinematically with shearing along major reg...\n",
            "33                                                     suite is an example of alkaline rocks generate...\n",
            "34                                                                                             Gondwana.\n",
            "35                                                             © 2020 Elsevier B.V. All rights reserved.\n",
            "                                                    0                                                  1\n",
            "0                                     1. Introduction  Nb\\nand\\nTa\\nanomalies,\\nand\\nis\\ngenetically\\...\n",
            "1                                                                                             magmatism.\n",
            "2   Alkaline rocks and carbonatites occur in almos...  Several mechanisms to generate nepheline syeni...\n",
            "3   tonic environment and are distributed from the...  posed, including the fractional crystallizatio...\n",
            "4   (Haissen et al., 2017). The most classic examp...  sented by alkaline basalts, nephelinites, basa...\n",
            "5   are associated with intracontinental rifts (e....  rocks or by low fractions of partial melts of ...\n",
            "6   Province) (Bailey, 1992). They are also typica...  rocks (Leat et al., 1988; Price et al., 1985; ...\n",
            "7   magmatism, whether continental or oceanic (e.g...  Burke et al. (2003) observed that most African...\n",
            "8   Monteregian Hills Province, Canary Islands, Ha...  Rocks and Carbonatites (DARCs) are concentrate...\n",
            "9   magmatism associated with subduction or contin...  zones and suggested that they might represent ...\n",
            "10  common than that associated with intracontinen...  well-deﬁned parts of the Wilson cycle. Based o...\n",
            "11  tinctively related to potassium-rich magmas, u...  imity between DARCs and younger Alkaline Rocks...\n",
            "12                                                     (ARCs), these authors further suggested that A...\n",
            "13                                                     the melting of an ancient DARC source if these...\n",
            "14                                                     reached adequate depths in the lithospheric ma...\n",
            "15                           ⁎\\nCorresponding author.                                                   \n",
            "16  E-mail addresses: eduardovalentindossantos@gma...  Other mechanisms for the generation of DARCs h...\n",
            "17  nilsonfb@unb.br (N.F. Botelho), elton@unb.br (...  such as rifting associated with a punctual int...\n",
            "                                                    0\n",
            "0   2\\nE. Valentin et al. / Lithos 366–367 (2020) ...\n",
            "1   evaporation method (Gorayeb et al., 2004). The...\n",
            "2   was considered an Archean greenstone belt meta...\n",
            "3   sequence,\\nbut\\nSouza\\n(2018)\\nreclassiﬁed\\nth...\n",
            "4   Neoproterozoic dismembered ophiolite.\\npothesi...\n",
            "..                                                ...\n",
            "62  were an acceleration voltage of 15 kV and a be...\n",
            "63  counting times at peak and background for all ...\n",
            "64  respectively.\\npergroup rocks. The Quatipuru o...\n",
            "65  The calibration procedure was carried out usin...\n",
            "66  ral minerals as standards: albite (NaKα), pyro...\n",
            "\n",
            "[67 rows x 1 columns]\n",
            "                                                    0                                                  1\n",
            "0   Fig. 1. A) Regional geological map of the Arag...                                                   \n",
            "1   illustrates the geological background near the...                                                   \n",
            "2   Massif, with fenite zones, sampling locations ...                                                   \n",
            "3                                                      and foliation directions. Modiﬁed from Alvaren...\n",
            "4   microcline (SiKα, AlKα, KKα), andradite (FeKα)...  cycle of analyzing a blank, a GJ-1 reference z...\n",
            "5   atite (CaKα), vanadinite (ClKα, VKα),\\ntopaz\\n...  Often, between the analyzed samples, an intern...\n",
            "6   (CrKα). ZAF correction procedure was used to a...  of the 91,500 reference zircon (Wiedenbeck et ...\n",
            "7   The most representative analyses are presented...  to evaluate the quality and reproducibility of...\n",
            "8   In situ U-Pb isotopic analyses were carried ou...  about the applied methods can be found in Bühn...\n",
            "9   using a Thermo Finnigan Neptune multicollector...          analyses are presented in the Appendix 2.\n",
            "10  plasma mass spectrometer coupled with a New Wa...  Data\\nreduction was performed by the Microsoft...\n",
            "11  Nd:YAG solid-state laser with an output wavele...  Chronus (Oliveira, 2015), where raw data were ...\n",
            "12  Geochronology Laboratory of the University of ...  background signals, common Pb, elemental fract...\n",
            "13  Zircon crystals were individually hand-picked ...  mental drift. The corrected data were plotted ...\n",
            "14  ameter plastic rings ﬁlled with two-compound e...                      using ISOPLOT (Ludwig, 2003).\n",
            "15  zircon\\ngrain\\nwas\\nimaged\\nfor\\nback-scattere...  Whole-rock Sm-Nd analyses were carried out\\nin...\n",
            "16                       cathodoluminescence by EPMA.  sector ﬁeld Thermo Fisher Scientiﬁc Triton Plu...\n",
            "17  The utilized ablation spots were 30 or 40 μm, ...  mass spectrometer at the Geochronology Laborat...\n",
            "18  10 Hz, and an intensity of 2.64–2.77 J/cm2. Th...  of Brasília. Rock powders were mixed with a 14...\n",
            "19  was carried by a gas ﬂux of helium (0.4 L/min)...  tion and digested by acid attacks,\\nfollowed b...\n",
            "20  A standard sample bracketing technique was app...  aration of Sm and Nd from the other rare earth...\n",
            "                                                    0\n",
            "0   4\\nE. Valentin et al. / Lithos 366–367 (2020) ...\n",
            "1   4.3. Nepheline monzosyenite\\nthe applied analy...\n",
            "2                                             (2000).\n",
            "3   The nepheline monzosyenite occurs in the lowla...\n",
            "4   evations of the Estrela Massif. They are mediu...\n",
            "..                                                ...\n",
            "90  marginal\\nrecrystallization (Fig. 2G), charact...\n",
            "91  grained, homogeneous and granoblastic subsolid...\n",
            "92  The maﬁc minerals generally occur as oriented ...\n",
            "93  late texture, where amphibole and less commonl...\n",
            "94  intercumulus minerals.\\nposition in all lithol...\n",
            "\n",
            "[95 rows x 1 columns]\n",
            "                                                    0                                                  1\n",
            "0   Fig. 2. Field aspects of the rocks of the Mont...                                                   \n",
            "1   D) Igneous foliation with irregular banding an...                                                   \n",
            "2   Massif. F) Microscopic foliation with ﬁne-grai...                                                   \n",
            "3   crystals in a nepheline syenite sample (EVES50...                                                   \n",
            "4   Massif. I) Well-preserved igneous hypidiomorph...                                                   \n",
            "5   Monte Santo Massif, with preserved igneous tex...                                                   \n",
            "6   granular texture in an alkali feldspar syenite...                                                   \n",
            "7                                      5.2. Nepheline                                       5.3. Biotite\n",
            "8   Nepheline structural formulae were calculated ...  Biotite is the most abundant maﬁc mineral in t...\n",
            "9   gen; additionally, the Na, K, Ca and appropria...  feldspar syenite of the Monte Santo Massif and...\n",
            "10  ions were calculated as the endmembers nepheli...  Estrela Massif.\\nIt occurs as ﬂakes and rarely...\n",
            "11  kalsilite (Ks – KAlSiO4) and anorthite (An – □...  poikilitic crystals (Fig. 2F) or radial aggreg...\n",
            "12  Si was calculated as quartz (Qz – □Si2O4). The...  association with other maﬁc minerals,\\nsuch as...\n",
            "13  were recalculated to 100%, as proposed in Hami...                                         magnetite.\n",
            "14  (1960). The normalized endmember percentages w...  Biotite\\ncompositions\\nare\\nclassiﬁed\\nfollowi...\n",
            "15  ternary diagram of the NaAlSiO4-KAlSiO4-Si2O4 ...  Tischendorf et al. (2007) as the varieties ann...\n",
            "16  using the isotherms deﬁned by Hamilton and Mac...  phlogopite (Fig. 3B). Structural formulas were...\n",
            "17  Hamilton (1961) (Fig. 3A). The Barth plane, wh...  ygen atoms, considering all the iron as divalent.\n",
            "18  nepheline compositions (Dollase and Thomas, 19...  In the Monte Santo Massif, biotite is widespre...\n",
            "19                  trol the quality of the analyses.  kali feldspar syenite and rarely occurs in the...\n",
            "20  Nepheline occurs in different textural varieti...  position is annite and its maximum TiO2 conten...\n",
            "21  cluding coarse (5–6 mm) subhedral crystals, me...  In the Estrela Massif, biotite occurs in all l...\n",
            "22  crystals and crystals with well-developed face...  phlogopite to siderophyllite to annite. Phlogo...\n",
            "23  anhedral crystals (1–1.5 mm) and ﬁne-grained r...  line monzodiorite, siderophyllite in the nephe...\n",
            "24  (0.1–0.2 mm) within other minerals, usually fe...  neoformed grains, with radial texture in nephe...\n",
            "25  There are signiﬁcant differences between the c...  in nepheline syenite and nepheline alkali feld...\n",
            "26  within the syenites of the Monte Santo Massif ...  siderophyllite and annite maximum TiO2 content...\n",
            "27  Massif. In the Monte Santo Massif, nepheline c...  and 3.82%, respectively. There is a tendency f...\n",
            "28  in the range of Ne68.6–79.5Ks19.7–23.3Qz0.0–8....  of biotite to contain the highest amounts of T...\n",
            "29  ture is mostly below 500 °C, with only one poi...                      grains contain lower amounts.\n",
            "30                                          isotherm.                                                   \n",
            "31  In\\nthe\\nEstrela Massif\\nsyenites,\\nnepheline\\...                                                   \n",
            "32  constrained in the Ne71.2–80.9Ks16.1–21.1Qz0.1...                                     5.4. Amphibole\n",
            "33  perature is widely spread, with their higher t...                                                   \n",
            "34  between the 775 °C and 1068 °C isotherms, well...  Amphibole is the most common mineral in the ne...\n",
            "35  (an intersection of the Barth plane within the...  the Monte Santo Massif and a usual maﬁc minera...\n",
            "36  projected from the An corner). In the nephelin...  It occurs as interstitial (0.8–1 mm) crystals ...\n",
            "37  tions\\nare\\ninterval,\\nconstrained in the Ne75...  (2–5 mm) with inclusions of nepheline and feld...\n",
            "38  representing even higher temperatures than tho...                                         are zoned.\n",
            "                                                    0                                                  1\n",
            "0   Fig. 3. Compositions of Monte Santo Suite neph...                                                   \n",
            "1   (1960) and Hamilton (1961). Morozewicz and Bue...                                                   \n",
            "2   FeAl (VIFetotal + Mn + Ti – Al) diagram of Tis...                                                   \n",
            "3   jadeite - aegirine ternary diagram of Morimoto...                                                   \n",
            "4   The cation allocation, estimation of ferric ir...  Clinopyroxene is a rare mineral phase within t...\n",
            "5             in accordance with Leake et al. (1997).  and occurs as ﬁne rounded crystals or as aggre...\n",
            "6   In the Monte Santo Suite,\\nthe amphiboles span...                  crystals. Both types lack zoning.\n",
            "7   range from calcic to sodic-calcic. In the Mont...  In the Monte Santo Massif, aegirine occurs in ...\n",
            "8   amphibole phase is the sodic-calcic species ta...  while in the Estrela Massif, aegirine-augite i...\n",
            "9   sif, taramite is present in all the syenites a...  nepheline syenite, and omphacite occurs in the...\n",
            "10  and hastingsite is the species in the nephelin...                                         (Fig. 3D).\n",
            "11                                 5.5. Clinopyroxene                                    6. Geochemistry\n",
            "12  The nomenclature and cation allocation are in ...  The\\nlithotypes\\nof\\nthe Monte\\nSanto\\nSuite\\n...\n",
            "13                            Morimoto et al. (1988).  metaluminous to peraluminous silica-undersatur...\n",
            "                                                    0  ...      14\n",
            "0                                             Table 1  ...        \n",
            "1   Whole-rock major element analyses of the Monte...  ...        \n",
            "2        eline syenite, AFS- Alkali feldspar syenite.  ...        \n",
            "3                                           Rock Type  ...     AFS\n",
            "4                                              Massif  ...     MSM\n",
            "5                                          Sample no.  ...   MS398\n",
            "6                                Major elements (wt%)  ...        \n",
            "7                                                SiO2  ...   58.15\n",
            "8                                                TiO2  ...   0.083\n",
            "9                                               Al2O3  ...   21.21\n",
            "10                                                  t  ...        \n",
            "11                                              Fe2O3  ...    4.73\n",
            "12                                                MnO  ...   0.121\n",
            "13                                                MgO  ...    0.08\n",
            "14                                                CaO  ...    0.55\n",
            "15                                               Na2O  ...    7.18\n",
            "16                                                K2O  ...    6.09\n",
            "17                                               P2O5  ...    0.02\n",
            "18                                                LOI  ...    1.18\n",
            "19                                              Total  ...   99.39\n",
            "20                                                  C  ...    n.a.\n",
            "21                                                  S  ...    n.a.\n",
            "22                                                     ...        \n",
            "23                                         Orthoclase  ...    36.0\n",
            "24                                             Albite  ...    39.1\n",
            "25                                          Anorthite  ...     2.6\n",
            "26                                          Nepheline  ...    11.7\n",
            "27                                            Leucite  ...     0.0\n",
            "28                                          Rock Type  ...     AFS\n",
            "29                                             Massif  ...      EM\n",
            "30                                         Sample no.  ...  EVES01\n",
            "31                               Major elements (wt%)  ...        \n",
            "32                                               SiO2  ...    61.7\n",
            "33                                               TiO2  ...    0.27\n",
            "34                                              Al2O3  ...    18.9\n",
            "35                                                  t  ...        \n",
            "36                                              Fe2O3  ...    4.52\n",
            "37                                                MnO  ...    0.13\n",
            "38                                                MgO  ...    0.32\n",
            "39                                                CaO  ...    0.71\n",
            "40                                               Na2O  ...    7.18\n",
            "41                                                K2O  ...    5.15\n",
            "42                                               P2O5  ...    0.11\n",
            "43                                                LOI  ...    0.61\n",
            "44                                              Total  ...    99.6\n",
            "45                                                  C  ...    0.05\n",
            "46                                                  S  ...    0.01\n",
            "47                                                     ...        \n",
            "48                                         Orthoclase  ...    30.4\n",
            "49                                             Albite  ...    54.5\n",
            "50                                          Anorthite  ...     2.8\n",
            "51                                          Nepheline  ...     3.4\n",
            "52                                            Leucite  ...     0.0\n",
            "\n",
            "[53 rows x 15 columns]\n",
            "                                                    0                                                  1\n",
            "0   Frost, 2008), with sodic afﬁnities in terms of...  Eu* = 0.94) to well-developed (Eu/Eu* = 0.47)....\n",
            "1   reﬂecting the modal predominance of albite and...  has La/SmN and Gd/LuN ratios of 12.34 and 0.8,...\n",
            "2   In the major element variation diagrams, SiO2 ...    developed Eu anomalies (Eu/Eu* = 0.53 to 0.19).\n",
            "3   fractionation index because it presents the hi...  The nepheline syenite of the Estrela Massif ha...\n",
            "4   the evaluated samples (45.2–62.7 wt%, Table 1)...  Gd/LuN ratios of 10.86 and 0.49, respectively,...\n",
            "5   trends of TiO2, CaO, and MgO and concave trend...  anomalies (Eu/Eu* = 0.38 to 0.18). The availab...\n",
            "6           with increasing differentiation (Fig. 5).  feldspar syenite, nepheline monzosyenite and n...\n",
            "7   The rare earth elements (REEs) present concent...  indicate less pronounced LREE enrichment (La/S...\n",
            "8   10 to 296 times and 16 to 1450 times the chond...  2,94, respectively), almost ﬂat or decreasing ...\n",
            "9   num in the Monte Santo Massif and Estrela Mass...  0.83, 1,71 and 1.51,\\nrespectively)\\nand,\\nexc...\n",
            "10                                          Table 2).  monzodiorite, pronounced Eu anomalies (Eu/Eu* ...\n",
            "11  The average La/SmN and Gd/LuN of the nepheline...  Ascending HREE patterns are commonly observed ...\n",
            "12  nite and alkali feldspar syenite of the Monte ...                            depicted by Gd/LuN b 1.\n",
            "13  1,21, respectively, indicating fractionated LR...  The syenites of the Monte Santo Massif show we...\n",
            "14  ﬂat HREE pattern. Eu negative anomalies vary f...  ative anomalies for Ba, Sr, P and Ti and posit...\n",
            "                                                    0                                                  1\n",
            "0   Fig. 4. A) Na2O versus K2O in weight percent. ...                                                   \n",
            "1   kaliophilite) versus the alkalinity index (AI)...                                                   \n",
            "2                                  Monte Santo Suite.                                                   \n",
            "3   and Hf in the multielement diagrams (Fig. 7, T...  The plot of both concordant and discordant ana...\n",
            "4     lies vary from weak to well-pronounced troughs.  cies (n = 41) delineates a discordia line with...\n",
            "5   The nepheline syenite, nepheline monzosyenite ...  1114.9 ± 9.5 Ma and a lower intercept of 265 ±...\n",
            "6   syenite of the Estrela Massif (EM) present ano...  MSWD of 1.9 (Fig. 9A). Ten U-Pb measurements o...\n",
            "7   of the Monte Santo Massif (MSM) syenites but w...  from the border facies are concordant and yiel...\n",
            "8   bulk concentrations. The nepheline monzodiorit...  1108.1 ± 1.9 Ma, with\\nan MSWD\\nof\\n0.062\\n(Fi...\n",
            "9   anomalies for Rb and K and negative anomalies ...  Mesoproterozoic ages are apparently regular re...\n",
            "10  nepheline monzodiorite and nepheline monzosyen...                     CL textures within the grains.\n",
            "11                          tive Nb and Ta anomalies.  In the central\\nfacies, there are three differ...\n",
            "12                                                     concordia plot of all the measurements (Fig. 9...\n",
            "13                                                     sists of the older ages, which form a discordi...\n",
            "14                            7. Zircon geochronology  cept of 1142 ± 24 Ma and a lower intercept of ...\n",
            "15                                                     and 8C). The second population consists of a s...\n",
            "16  We selected three samples from the Monte Santo...  of ca. 780 Ma. The last population is represen...\n",
            "17  samples from the Estrela Massif for U-Pb geoch...  found in these rocks, which, regardless of the...\n",
            "18  two samples are from the border facies (MS22 a...  points, yield concordia ages of 530.5 ± 4.3 Ma...\n",
            "19  from the central facies (MS140), while in the ...  with MSWDs of 0.114 and 5, respectively (Figs....\n",
            "20  kali feldspar syenite and a nepheline syenite ...  bly, the discordia line of the older ages does...\n",
            "21  spectively). The results of\\nthe U-Th-Pb isoto...                                      younger ages.\n",
            "22  from the Monte Santo Massif and Estrela Massif...  Analyses show that the older ages are concentr...\n",
            "23                                          pendix 2.  zircon grains with different CL textures and i...\n",
            "24  Zircons from both facies of the MSM are genera...  younger ages are concentrated in the borders o...\n",
            "25  cent to pink and brown and ranging in size fro...  pecially in the borders showing oscillatory zo...\n",
            "26  border facies, some crystals preserve oscillat...                               intensity (Fig. 8B).\n",
            "27  bands of alternating CL intensities, which is ...  The zircon crystals from the nepheline syenite...\n",
            "28  zation, but are overprinted by patches and ove...  are brown,\\ninclusion-rich,\\nanhedral\\ngrains,...\n",
            "29  some crystals are featureless, presenting only...  2.12 mm. There is a distinction between the CL...\n",
            "30  postmagmatic recrystallization features, such ...  and smaller grains. The larger grains are inte...\n",
            "31  the presence of\\ntransgressive zones of rehomo...  icate inclusions (feldspars and biotite), with...\n",
            "32  light CL patches of varied shapes (some appear...  light CL spots, and thin borders with light lu...\n",
            "33  others are inﬁlls, and still others are overgr...  smaller grains are more homogeneous than the l...\n",
            "34  spread (Corfu et al., 2003).\\nIn the central\\n...  light to intermediate luminescence colors, oft...\n",
            "35  darker, the oscillatory zoning is preserved in...  zoning but also presenting late to postmagmati...\n",
            "36  growths or patches of light CL are less common...  volute zoning and patchy zoned replacements (F...\n",
            "37  than in the border facies. In these crystals, ...  from the alkali feldspar syenite of the Estrel...\n",
            "38  variably altered and/or recrystallized nuclei ...  well-developed crystal faces and range from 0....\n",
            "39  rather than homogeneous light CL overgrowths (...  patterns show well-developed oscillatory zonin...\n",
            "                                                    0                                                  1\n",
            "0   Fig. 5. Harker variation diagrams using additi...                                                   \n",
            "1   Iwanuch (1991) data encompass both massifs and...                                                   \n",
            "2   show the same small variation found in the mos...                                                   \n",
            "3   tends to have dark luminescence colors, overgr...  the analyses yielded the older Mesoproterozoic...\n",
            "4   latory zones of\\nintermediate luminescence col...                                     other samples.\n",
            "5   transgressed by light CL patchy zones or overg...                                                   \n",
            "6   Four measurements on four different crystals f...                                      8. Discussion\n",
            "7   enite yield a concordia age of 475.5 ± 4.3 Ma ...                                                   \n",
            "8   (Fig. 10D), but the majority of the data fall ...          8.1. Mineral textures and crystallization\n",
            "9   upper intercept of 1123 ± 48 Ma, a lower inter...                                                   \n",
            "10  and an MSWD of 3.6 (Fig. 10C). The younger age...  Textural evidence suggests that the rocks of t...\n",
            "11  nepheline syenite tend to concentrate in small...  comprising mainly granoblastic feldspars and f...\n",
            "12  light luminescent crystals and within the ligh...  and present a more deformed texture than the E...\n",
            "13                                   larger crystals.  which are coarser and present a well-preserved...\n",
            "14  The analyses of the alkali feldspar syenite pl...  lar\\nigneous\\ntexture, with minor occurrences ...\n",
            "15  diagram show concordant ages ranging from ca. ...                           heterogranular textures.\n",
            "16  (Fig. 10A). The older ages within this range w...  The nepheline compositions of the two massifs ...\n",
            "17  tion of the concordia age; fourteen analyses o...  nepheline compositions are more potassic and l...\n",
            "18  yielded an age of 545.7 ± 3.4 with an MSWD of ...  compositions, which is\\nreﬂected in the\\nestim...\n",
            "                                                   0                                                  1\n",
            "0                                                 10  E. Valentin et al. / Lithos 366–367 (2020) 105552\n",
            "1  Fig. 6. Rare earth element diagrams for the Mo...                                                   \n",
            "2                  from Viana and Battilani (2014a).                                                   \n",
            "                                                    0  ...     14\n",
            "0                                             Table 2  ...       \n",
            "1   Whole-rock trace element analyses of the Monte...  ...       \n",
            "2                                           Rock Type  ...    AFS\n",
            "3                                              Massif  ...    MSM\n",
            "4                                          Sample no.  ...  MS398\n",
            "..                                                ...  ...    ...\n",
            "68                                                 Sm  ...   3.13\n",
            "69                                                 Eu  ...   0.42\n",
            "70                                                 Gd  ...    2.5\n",
            "71                                                 Tb  ...   0.46\n",
            "72                                                     ...       \n",
            "\n",
            "[73 rows x 15 columns]\n",
            "                      0       1       2  ...       7        8       9\n",
            "0                    12                  ...                         \n",
            "1   Table 2 (continued)                  ...                         \n",
            "2             Rock Type     NMD     NMS  ...      NS       NS     AFS\n",
            "3                Massif      EM      EM  ...      EM       EM      EM\n",
            "4            Sample no.  EVES13  EVES05  ...  EVES44   EVES50  EVES01\n",
            "5                    Dy    3.88    0.96  ...    0.58     18.2    2.55\n",
            "6                    Ho    0.84    0.22  ...    0.22     3.75    0.55\n",
            "7                    Er    2.22    0.48  ...     0.7    11.25     1.5\n",
            "8                    Tm    0.33    0.09  ...    0.13     1.78    0.24\n",
            "9                    Yb    2.08    0.52  ...    1.31    12.95    2.16\n",
            "10                   Lu    0.31    0.07  ...    0.26     2.06    0.37\n",
            "11                 ∑REE  106.47   38.67  ...    50.6  1209.07   96.94\n",
            "12               La/SmN    2.94    7.35  ...   14.26    10.23    3.47\n",
            "13               Gd/LuN    1.52    1.71  ...    0.21     1.07    0.84\n",
            "14               Eu/Eu*    1.01    0.40  ...    0.28     0.19    0.46\n",
            "\n",
            "[15 rows x 10 columns]\n",
            "                                                    0                                                  1\n",
            "0                      Eu/Eu*\\n1.01\\n0.40\\n0.20\\n0.38                       0.22\\n0.29\\n0.28\\n0.19\\n0.46\n",
            "1   temperatures, using the Hamilton and MacKenzie...  Eby et al. (1998) interpreted them as mineral ...\n",
            "2   1961 thermometers. In the Estrela Massif, the ...  bulk magma composition.\\nIn the Monte Santo Su...\n",
            "3   on the order of ~1000 °C, are found in rocks w...  no clear correlation between the aluminum in m...\n",
            "4   (nepheline monzodiorites), although the nephel...  rock\\ncompositions, which\\nsuggests\\npostmagma...\n",
            "5   tain nepheline crystals that record high tempe...                                      modiﬁcations.\n",
            "6   highest temperature found in the syenites of t...  The\\nclinopyroxene\\ncompositions\\nof\\nboth mas...\n",
            "7   In both massifs, the same types of rocks conta...  omphacite to aegirine-augite and aegirine, and...\n",
            "8   that preserve both high-temperature and low-te...  enriched in the jadeite endmember (Jd of Morim...\n",
            "9   ranging from as high as 1000 °C to less\\nthan ...  Woolley et al. (1996) and Curtis and Gittins (...\n",
            "10  reequilibrated crystals (Fig. 3A). Tilley (195...  through the metamorphism of nepheline-bearing ...\n",
            "11  slowly cooled plutons or recrystallized intrus...  ous clinopyroxene chemistry shifts towards mor...\n",
            "12  tions reequilibrate and concentrate along a li...  tions. Woolley et al. (1996) stated that the m...\n",
            "13  and Morozewicz\\ncompositions\\n(Morozewicz-Bueg...  rocks generates aluminous aegirine-augite and ...\n",
            "14  ﬁeld); however, this trend is not observed in ...  the metamorphism of agpaitic rocks generates a...\n",
            "15  The diagram of Nachit et al. (2005) is used to...                                 jadeitic pyroxene.\n",
            "16  primary, reequilibrated and neoformed biotites...  Although jadeitic and omphacitic pyroxenes are...\n",
            "17  activity reequilibrates or promotes new crysta...  ered indicative of high-pressure metamorphism,...\n",
            "18  and shifts their compositions to the base of t...  (1979)\\ndescribed\\nthese\\nspecies\\nas\\ndevelop...\n",
            "19  compositions in the MSS plot in the ﬁelds of p...  amphibolite-facies metamorphism in the agpaiti...\n",
            "20  and neoformed grains (Fig. 11A). Only the comp...  Wine alkaline complex and inferred that both j...\n",
            "21  and phlogopite samples from the EM, with high ...  crystallize at much lower pressures in a bulk ...\n",
            "22  the primary ﬁeld, forming a linear array with ...                      that has low silica activity.\n",
            "23  the\\nreequilibrated\\nﬁeld.\\nSiderophyllite\\nsa...  Fig. 12A displays the clinopyroxene compositio...\n",
            "24  neoformed ﬁeld (radial texture biotite) or at ...  Suite in comparison with the primary igneous t...\n",
            "25  neoformed and reequilibrated ﬁelds. In the MSM...  rocks of the Motzfeldt and South Qorôq intrusi...\n",
            "26  plot within the primary ﬁeld. Interactions wit...  ince (Jones, 1980; Stephenson, 1972), Center I...\n",
            "27  morphic ﬂuids could be responsible for these t...  (Mitchell and Platt, 1982) and selected rocks ...\n",
            "28  TiO2; however, the biotite shapes and fabric w...  and Ross, 1990), as well as the metamorphic tr...\n",
            "29  the presence of linear arrays in the Nachit et...  Elchuru\\nalkaline\\ncomplex\\nin\\nthe\\nPrakasam ...\n",
            "30  serving the Mg/Fe ratio within the same types ...  (Upadhyay et al., 2006) and North Nyasa Provin...\n",
            "31  pected from magmatic reequilibration under coo...  1996). The clinopyroxenes of the Monte Santo S...\n",
            "32                            than from metamorphism.  minous to represent an igneous trend and do no...\n",
            "33  The compositional trends of the biotites from ...  trends of Elchuru and North Nyasa Province; ra...\n",
            "34  are compared to those from other well-known al...  of these clinopyroxenes is intermediate betwee...\n",
            "35  around the world in the Al-Mg-Fe2+ diagram (Fi...  phic compositions. In the Di-Hd-Ac diagram (Fi...\n",
            "36  compositions of\\nthe Oslo rift\\nin Norway (And...  Suite pyroxenes depict trends similar to those...\n",
            "37  1993), Igdlerﬁgsalik in South Greenland (Finch...  ince, representing a mixed character with both...\n",
            "38  Canary Islands (Wolff, 1987), Chilwa Alkaline ...  served\\nigneous\\npyroxenes.\\nCompositional\\ntr...\n",
            "39  (Woolley and Platt, 1988), and Magnet Cove in ...  enrichment alone do not necessarily characteri...\n",
            "40  Ross, 1990), are used for comparison with pres...  tion trend for pyroxene, as can be found in ma...\n",
            "41  plexes, while the North Nyasa Province in Mala...  plexes (Mitchell and Vladykin, 1996 and refere...\n",
            "42  and the Elchuru alkaline complex in the Prakas...  observations, along with high aluminous compos...\n",
            "43  (Upadhyay et al., 2006) are used for compariso...                                        indicators.\n",
            "44                                         complexes.  The amphibole compositions of the MSS range fr...\n",
            "45  Biotites with the highest amounts of TiO2 are ...  the nepheline monzodiorite to taramite in all\\...\n",
            "46  magmatic trends (red dashed line), while most ...  rocks (Fig. 3C). This variation results from C...\n",
            "47  tions that plot in the reequilibrated and neof...  (Giret et al., 1980) with increasing different...\n",
            "48  ﬁne individual trends enriched in aluminum (Fi...  note that the same species of amphibole is fou...\n",
            "49  biotites are also observed in the trends of th...  in both massifs. The presence of zoning-free c...\n",
            "                                                   0   1\n",
            "0  E. Valentin et al. / Lithos 366–367 (2020) 105552  13\n",
            "1  Fig. 7. Multielement diagrams of the Monte San...    \n",
            "                                                    0                                                  1\n",
            "0   Fig. 8. EPMA cathodoluminescence images of the...                                                   \n",
            "1                                                      grains from the central facies of the Monte Sa...\n",
            "2   from the alkali feldspar syenite of the Estrel...                                                   \n",
            "3   legend, the reader is referred to the web vers...                                                   \n",
            "4   homogeneous, as well as their textural types, ...  nepheline, can be inferred from the positive a...\n",
            "5   boles of both massifs represent recrystallized...  between major oxide elements. The evolution tr...\n",
            "6   suggested that\\nthe presence of\\ntaramite amph...  from the Estrela Massif presents nepheline sye...\n",
            "7   with jadeitic-rich clinopyroxenes\\nis\\na\\nfeat...  feldspar syenite, while the Monte Santo Massif...\n",
            "8                                        assemblages.                                      relationship.\n",
            "9   From the mineral chemistry and textural inform...  The fractionation of maﬁc minerals and calcic ...\n",
            "10  that the Monte Santo Suite contains well-prese...  ferred by the negative anomalies in Ti, Sr and...\n",
            "11  as well as deformed and reequilibrated crystal...  agrams of the syenites (Fig. 7). The negative ...\n",
            "12  subsolidus recrystallization occurred at P-T c...  syenites may\\nbe\\nindicative\\nof\\napatite\\nand...\n",
            "13  promote feldspar and nepheline grain boundary ...                                     fractionation.\n",
            "14  perthite unmixing, indicating that at some poi...  In the REE diagrams (Fig. 6), different types ...\n",
            "15  zation, plastic strain took place under high t...  parallel patterns, and the same type of rock c...\n",
            "16  that the Monte Santo Suite represents magmas t...  variations in the bulk REE content (La varies ...\n",
            "17  higher regional temperature and pressure condi...  could simply be the effect of extensive fracti...\n",
            "18  rocks, which typically intrude low P-T regions...  be indicative that these rocks represent cumul...\n",
            "19  that these magmas were intrusive under high P-...  trapped liquid, which could cause signiﬁcant v...\n",
            "20  the mixed chemical character of most of the mi...                                   rock REE budget.\n",
            "21  though the coexistence of aluminous clinopyrox...  In the multielement diagrams (Fig. 7), zirconi...\n",
            "22  bole\\nis\\nconsidered\\na metamorphic\\nfeature\\n...  play positive anomalies and have parallel tren...\n",
            "23  clinopyroxene data do not ﬁt well in metamorph...  in the bulk concentration, where the highest c...\n",
            "24                                                     ated with high HREE contents; this feature is ...\n",
            "25         8.2. Monte Santo suite evolution processes  con accumulation and is commonly seen in petro...\n",
            "26                                                     tantalum, similar to zirconium and hafnium, pr...\n",
            "27  Harker diagrams (Fig. 5) show curved patterns ...  with large variations. In the zircon-enriched ...\n",
            "28  tion between CaO, MgO and TiO2 and SiO2, and p...  ent, and the accumulation of pyrochlore could ...\n",
            "29  tween Na2O and Al2O3 and SiO2 towards more dif...                     iations in Nb and Ta contents.\n",
            "30  Curved patterns in variation diagrams indicate...  The Zr/Hf ratios are similar in both the most ...\n",
            "31  with changing cumulate composition (Janousek e...  more differentiated rocks of the Monte Santo S...\n",
            "32  sive fractionation of maﬁc minerals and possib...  along a straight line with a value of 43.1, wi...\n",
            "33  erating differentiated magmas enriched in alka...  Zirconium and hafnium are elements with the sa...\n",
            "                                                   0   1\n",
            "0  E. Valentin et al. / Lithos 366–367 (2020) 105552  15\n",
            "1  Fig. 9. Concordia diagrams for the Monte Santo...    \n",
            "2  populations. D) Mesoproterozoic population of ...    \n",
            "                                                    0                                                  1\n",
            "0   Fig. 10. Concordia diagrams for the Estrela Ma...                                                   \n",
            "1   the nepheline syenite. D) Concordia age of the...                                                   \n",
            "2   similar ionic radii; therefore, it is expected...  The internal features and oscillatory zoning o...\n",
            "3   stant in the same magmatic series (Linnen and ...  feldspar syenite from the Estrela Massif (Fig....\n",
            "4   served in the Monte Santo Suite. The presence ...  545.7 ± 3.4 Ma represents the crystallization ...\n",
            "5   tantalum anomalies in the multielement diagram...  younger ages obtained in the same zircon cryst...\n",
            "6   studied rocks were derived from the mantle (Th...  trated in brighter CL overgrowth zones, sugges...\n",
            "7   The negative Nb and Ta anomalies found in the ...  down to 510 Ma found in these samples may be e...\n",
            "8   and nepheline monzosyenite are different from ...  involving zircon rejuvenation. An episodic pro...\n",
            "9   nepheline syenites, which could be evidence of...  unlikely to explain such a spread along the co...\n",
            "10  cesses involved in the evolution of the magmat...  riod of crystallization of 35 Ma is too long, ...\n",
            "11  nately we do not have enough samples or data o...  pluton. Long-lived crystallization ages are re...\n",
            "12  what could be these processes or if these rock...  of 8–10 Myr\\nin nepheline syenite pegmatites\\n...\n",
            "13                             the Monte Santo Suite.  2015), 20 Myr in carbonatite-nepheline syenite...\n",
            "14                                                     et al., 2016), and 7–8 Myr in large composite ...\n",
            "15                                                     et al., 2007), all of which are much narrower ...\n",
            "16  8.3. Age and tectonic signiﬁcance of the Monte...                                                   \n",
            "17                                                     The 475.5 ± 4.3 Ma age for the nepheline syeni...\n",
            "18                                                     obtained in both the borders of crystals with ...\n",
            "19  As indicated by the geochemical data, the diff...                                                   \n",
            "20                                                     smaller,\\nlight\\nCL\\ncrystals\\n(Fig.\\n8C\\nand\\...\n",
            "21  massifs of the Monte Santo Suite belong to the...                                                   \n",
            "22                                                     Mesoproterozoic ages found in the same samples...\n",
            "23  and probably had the same source. Furthermore,...                                                   \n",
            "24                                                     line towards the Cambrian ages probably indica...\n",
            "25  and mineral chemistry compositions suggest tha...                                                   \n",
            "26                                                     ages represent an event responsible for Pb los...\n",
            "27   iably deformed and recrystallized at some point.                                                   \n",
            "                                                    0                                                  1\n",
            "0   Fig. 11. Monte Santo Suite biotite composition...                                                   \n",
            "1   where the A ﬁeld represents primary compositio...                                                   \n",
            "2   compositions and the C ﬁeld represents neoform...                                                   \n",
            "3   ternary diagram. The red arrow indicates the h...                                                   \n",
            "4   Suite, which represent primary compositions. M...                                                   \n",
            "5   (Igdlerﬁgsalik), C (Chilwa Alkaline Province),...                                                   \n",
            "6   while KC (Kasungu and Chipala, North Nyasa Pro...                                                   \n",
            "7   phosed complexes. The symbols are the same as ...                                                   \n",
            "8   tion of the references to colour in this ﬁgure...                                                   \n",
            "9                           version of this article.)                                                   \n",
            "10                                                     Fig. 12. Monte Santo Suite clinopyroxene compo...\n",
            "11  ages are similar to those found in the Monte S...                                                   \n",
            "12                                                     (1979) diagram for clinopyroxene compositions....\n",
            "13  tals of this massif show many postmagmatic alt...                                                   \n",
            "14                                                     ternary diagram. CCII (Coldwell Center II), SQ...\n",
            "15    likely due to interactions with alkaline magma.  (Magnet Cove) are igneous complexes, while KC ...\n",
            "16  Most of the data obtained from the Monte Santo...  Province) and E (Elchuru) are metamorphosed co...\n",
            "17                                                                             those in previous ﬁgures.\n",
            "18  populations of 1.1 Ga; however, the central fa...                                                   \n",
            "19  Cambrian ages (530.5 ± 4.3 Ma and 493.3 ± 3.8 ...                                                   \n",
            "20  tant geological meaning, despite the low stati...                                                   \n",
            "21  these ages are very similar to both population...                                                   \n",
            "22  tained in the Estrela Massif. Viana and Battil...  (diffusion, leaching and/or recrystallization)...\n",
            "23  a similar population of ages for the Monte San...  morphism in previously metamict zircon crystal...\n",
            "24  the crystals presented by these authors were r...  Mezger and Krogstad, 1997); therefore, these m...\n",
            "25  crystals in the Estrela Massif based on size, ...  action of metamorphic, late magmatic, hydrothe...\n",
            "26  The nepheline and alkali feldspar syenites of ...  (Geisler et al., 2003; Pidgeon, 1992; Vavra et...\n",
            "27  similar geochemical anomalies, ratios and patt...  In the zircon population from the alkali\\nfeld...\n",
            "28  their mineral paragenesis also implies great o...  Estrela Massif, there is CL textural evidence ...\n",
            "29  are foliated massifs intruding the contact bet...  younger than the magmatic crystallization, whi...\n",
            "30  units. We believe that the geochemical and min...  of the isotopic system of the previous igneous...\n",
            "31  are sufﬁcient to suggest that the crystallizat...  to postmagmatic process as pointed by Bao et a...\n",
            "32  Massif is similar to that of the Estrela Massi...  chinese syenites. Additionally, all of the Mes...\n",
            "33  and that the two massifs are cogenetic. Howeve...  in the two Monte Santo Suite massifs deﬁne dif...\n",
            "34  of syenite evolution are a signiﬁcant differen...  lines that eventually reach a concordant\\nlowe...\n",
            "35  which could indicate different processes invol...  475 Ma) that according to Mezger and Krogstad,...\n",
            "36                                       each massif.  have geological signiﬁcance. The younger Cambr...\n",
            "37  The alkaline rocks of the Monte Santo Suite ar...  facies of the Monte Santo Massif are different...\n",
            "38  concordant or near-concordant ages\\nranging fr...  resent lower intercept ages; instead, they occ...\n",
            "39  475 Ma. Many mechanisms have been proposed to ...  grains that are texturally different from the ...\n",
            "40  juvenation processes, which involve isotopic d...  (Fig. 8B) and do not demonstrate a discordant ...\n",
            "41  by solid-state recrystallization and precipita...  older ages. Additionally, the youngest Cambria...\n",
            "42  metamorphism (Hoskin and Black, 2000) or ﬂuid-...  ple (493 Ma) is slightly discordant, while the...\n",
            "                                                    0  ...       8\n",
            "0                                             Table 3  ...        \n",
            "1                                                      ...        \n",
            "2   respectively (Jacobsen and Wasserburg, 1980, 1...  ...        \n",
            "3                                              Sample  ...  T (Ga)\n",
            "4                                               MS88A  ...   0.545\n",
            "5                                              MS122A  ...   0.545\n",
            "6                                               MS336  ...   0.545\n",
            "7                                               MS140  ...   0.545\n",
            "8                                               MS293  ...   0.545\n",
            "9                                              MS316C  ...   0.545\n",
            "10                                             EVES04  ...   0.545\n",
            "11                                             EVES14  ...   0.545\n",
            "12                                             EVES01  ...   0.545\n",
            "\n",
            "[13 rows x 9 columns]\n",
            "                                                    0                                                  1\n",
            "0                          EVES01\\nAFS\\n3.101\\n17.949          0.511949 (± 5)\\n0.1044\\n−7.0\\n1.52\\n0.545\n",
            "1   (530 Ma) is concordant, suggesting that 530 Ma...  has been interpreted as a mega-suture active d...\n",
            "2   tion age than 498 Ma and that 498 Ma deﬁnes a ...  gamation (Cordani et al., 2013) or as the resu...\n",
            "3   The regional timing of metamorphism is not wel...  ing stages (Strieder and Suita, 1999); therefo...\n",
            "4   there is evidence of regional U-Pb disturbance...  associated with this major structure or margin...\n",
            "5   and 513 Ma\\n(Alves\\net\\nal., 2019; Moura\\net\\n...  with the lineament could have been responsible...\n",
            "6   Gaudette, 1993; Pinheiro, 2016), with cooling ...                          deformation of the suite.\n",
            "7   ca. 505–489 Ma (Dias et al., 2017; Pinheiro, 2...  A similar process has been proposed for other ...\n",
            "8   cult to assess whether metamorphism inﬂuenced ...  kaline intrusions in Africa (Attoh et al., 200...\n",
            "9                      tion of the Monte Santo Suite.  and India (Biswal et al., 2007). In Cameroon, ...\n",
            "10  Due to the lack of a wide background of local ...  trusions are considered to have been synkinema...\n",
            "11  nological information and the lack of addition...  the Southwest Cameroon Shear Zone at 590 Ma an...\n",
            "12  erals\\nin\\nthe\\nparagenesis\\n(e.g., monazite\\n...  by magmatic to solid-state deformation structu...\n",
            "13  investigated syenites, it is difﬁcult to estim...  where the deformation took place at depth (Emm...\n",
            "14  Cambrian ages (498 and 475 Ma) and the age spr...  This situation is particularly different from ...\n",
            "15  dated igneous zircon (EVES01) have geological ...  by Burke et al. (2003) for the generation of d...\n",
            "16  The Mesoproterozoic crystals and a single 780 ...  and the signiﬁcance of these rocks as markers ...\n",
            "17  the Monte Santo Massif can be interpreted, usi...  which can be exempliﬁed by the Tambani body of...\n",
            "18  Miller et al. (2007), as inherited crystals fr...  Belt,\\nsouthern\\nMalawi,\\nwhere\\nthe\\nintrusio...\n",
            "19  from buried geological units in the emplacemen...  intracontinental rift at 730 Ma and was deform...\n",
            "20  The metamaﬁc and ultramaﬁc rocks of the Aragua...  of the Panafrican orogeny at 522 Ma (Ashwal et...\n",
            "21  750 to 810 Ma (Gorayeb et al., 2004; Paixão et...  There are examples in Africa and India of Edia...\n",
            "22  source of contamination for the 780 Ma populat...  line magmatic rocks throughout Western Gondwan...\n",
            "23  geological unit in the Araguaia Belt has an ag...  wana that were synkinematically emplaced and d...\n",
            "24  age is found in provenance studies of the meta...         Monte Santo Suite represents another case.\n",
            "25        the Estrondo Group (Pinheiro et al., 2011).                                                   \n",
            "26  The shapes of the Mesoproterozoic zircon cryst...                         9. Summary and conclusions\n",
            "27  irregular, well-developed crystal faces are ra...                                                   \n",
            "28  features are relatively frequent in CL images....  The textural, petrographic and ﬁeld relations ...\n",
            "29  that the Mesoproterozoic zircon crystals were ...  geochemical and isotopic data for the Monte Sa...\n",
            "30                                 from their source.  the Estrela and Monte Santo massifs are cogene...\n",
            "31  The Sm-Nd analyses (Table 3) yield TDM ages fo...     the Araguaia Belt at approximately 545–530 Ma.\n",
            "32  Suite that range from 1.25 Ga to 1.54 Ga, whic...  This alkaline magmatism was mantle-sourced and...\n",
            "33  errors, could point to the existence of a Meso...  intermediate to felsic, highly differentiated ...\n",
            "34  mixture between older and younger sources. Add...  by fractional crystallization and involve chan...\n",
            "35  values calculated at 545 Ma range from −10.1 t...  tions. The Monte Santo and Estrela massifs are...\n",
            "36  either that this Mesoproterozoic source was de...  rocks that represent mixtures of cumulates and...\n",
            "37  143Nd or\\nthat\\nthese magmas\\nexperienced crus...  The textural evidence and mineral trends and c...\n",
            "38  Foland et al. (1993) demonstrated that crustal...  that these massifs were, at some point, deform...\n",
            "39  of making silica-undersaturated magmas reach o...  though there is signiﬁcant evidence of preserv...\n",
            "40  the undersaturated rocks in the magmatic serie...                in nepheline, biotite and pyroxene.\n",
            "41  evidence of contamination, which is a feature ...  The Monte Santo Suite represents Ediacaran-Cam...\n",
            "42  Monte Santo Suite. Therefore, we believe that ...  magmatism in the Araguaia Belt that was synkin...\n",
            "43  values apply to the source of these rocks, alt...  in an intra-orogenic extensional or\\ntranstens...\n",
            "44                necessary to conﬁrm this inference.  along shear zones related to the Transbrasilia...\n",
            "45  The internal features observed in the studied ...  the Monte\\nSanto\\nSuite\\nrepresents\\nan\\nexamp...\n",
            "46  the regional background of the Araguaia Belt, ...  magmatism that occurred throughout Western Gon...\n",
            "47  the alkaline rocks of the Monte Santo Suite cr...  synkinematically emplaced and deformed similar...\n",
            "48        lution of the Brasiliano-Panafrican orogen.  scribed in Africa and in East Gondwana rocks f...\n",
            "49  The Monte Santo Suite crops out near and along...  2007; Biswal et al., 2007; Emmanuel et al., 20...\n",
            "50  parallel to the Transbrasiliano Lineament (Sch...  These magmas were generated from a Mesoprotero...\n",
            "51  a 4000 km-long continental-scale discontinuity...  a mantle afﬁnity that was depleted in radiogen...\n",
            "                                                     0\n",
            "0    E. Valentin et al. / Lithos 366–367 (2020) 105...\n",
            "1    Cordani, U.G., Pimentel, M.M., Araújo, C.E.G.,...\n",
            "2    The interpretation of the age, emplacement mec...\n",
            "3    Transbrasiliano-Kandi tectonic corridor for th...\n",
            "4    mation of the Monte Santo Suite contradicts th...\n",
            "..                                                 ...\n",
            "125  of Pb and U isotopes for geochronology by lase...\n",
            "126  coupled plasma mass spectrometry (LA-MC-ICP-MS...\n",
            "127  99–114.\\nfor Microsoft Excel.\\nvol 4. Berkeley...\n",
            "128  Burke, K., Ashwal, L.D., Webb, S.J., 2003. New...\n",
            "129  kaline rocks and carbonatites. Geology 31 (5),...\n",
            "\n",
            "[130 rows x 1 columns]\n"
          ],
          "name": "stdout"
        }
      ]
    },
    {
      "cell_type": "code",
      "metadata": {
        "id": "j14s5zsnGhtO",
        "colab_type": "code",
        "colab": {
          "base_uri": "https://localhost:8080/",
          "height": 357
        },
        "outputId": "ff497421-7d3a-47e4-c878-c55827ff2dba"
      },
      "source": [
        "# Create a list to save the tables that will be filtered\n",
        "tables_output = []\n",
        "\n",
        "# Iterate over all the tables recognized\n",
        "for tables in tables3:\n",
        "  # If the word 'Table' is in the table recognized in the first or second rows of the first column and if the table\n",
        "  # has more than three columns, they will be showed in the screen and added to the list of filtered tables.\n",
        "  # Parameters can be changed depending on the last step, you got to decide how to filter the information.\n",
        "  if ('Table' in tables.df[0][0] or 'Table' in tables.df[0][1]) and tables.shape[1] > 2:\n",
        "    print(tables.df[0][0:3])\n",
        "    print('')\n",
        "    tables_output.append(tables)"
      ],
      "execution_count": 19,
      "outputs": [
        {
          "output_type": "stream",
          "text": [
            "0                                              Table 1\n",
            "1    Whole-rock major element analyses of the Monte...\n",
            "2         eline syenite, AFS- Alkali feldspar syenite.\n",
            "Name: 0, dtype: object\n",
            "\n",
            "0                                              Table 2\n",
            "1    Whole-rock trace element analyses of the Monte...\n",
            "2                                            Rock Type\n",
            "Name: 0, dtype: object\n",
            "\n",
            "0                     12\n",
            "1    Table 2 (continued)\n",
            "2              Rock Type\n",
            "Name: 0, dtype: object\n",
            "\n",
            "0                                              Table 3\n",
            "1                                                     \n",
            "2    respectively (Jacobsen and Wasserburg, 1980, 1...\n",
            "Name: 0, dtype: object\n",
            "\n"
          ],
          "name": "stdout"
        }
      ]
    },
    {
      "cell_type": "code",
      "metadata": {
        "id": "AbSXJgXZM9aZ",
        "colab_type": "code",
        "colab": {}
      },
      "source": [
        "# Export all the filtered tables in the .csv format, another formats supported are:\n",
        "# .xlsx (to_excel), .html (to_html), .json (to_json) and .db (to_sqlite)\n",
        "for tables in tables_output:\n",
        "  tables.to_csv(f\"Valentin_etal_2020-Table{tables_output.index(tables)+1}.csv\")"
      ],
      "execution_count": 30,
      "outputs": []
    }
  ]
}
